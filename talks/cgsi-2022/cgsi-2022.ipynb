{
 "cells": [
  {
   "cell_type": "markdown",
   "id": "756552b3",
   "metadata": {
    "slideshow": {
     "slide_type": "slide"
    }
   },
   "source": [
    "### Controlling the FDR in GWAS with population structure\n",
    "\n",
    "#### Matteo Sesia (University of Southern California)\n",
    "#### CSGI 2022 | July 7th, 2022\n"
   ]
  },
  {
   "cell_type": "markdown",
   "id": "2729dbd0",
   "metadata": {
    "slideshow": {
     "slide_type": "slide"
    }
   },
   "source": [
    "<div>\n",
    "<img src=\"figures/slide_1.png\" width=\"800\"/>\n",
    "</div>"
   ]
  },
  {
   "cell_type": "markdown",
   "id": "82e92c83",
   "metadata": {
    "slideshow": {
     "slide_type": "slide"
    }
   },
   "source": [
    "### Traditional approach: testing marginal associations\n",
    "\n",
    "Methods: univariate regression, permutations, linear mixed models.\n",
    "\n",
    "\\begin{align*}\n",
    "    \\text{marginal association} \\quad & \\neq \\quad \\text{causation} \\\\\n",
    "    Y {\\; \\not\\!\\perp\\!\\!\\!\\perp \\;} X_j \\quad & \\qquad X_j \\rightarrow Y\n",
    "\\end{align*}\n",
    "\n",
    "<div>\n",
    "<img src=\"figures/manhattan.png\" width=\"500\"/>\n",
    "</div>\n",
    "\n",
    "Variants on same chromosome are not independent of each other (linkage disequilibrium, population structure, familial relatedness)."
   ]
  },
  {
   "cell_type": "markdown",
   "id": "ca4139a5",
   "metadata": {
    "slideshow": {
     "slide_type": "slide"
    }
   },
   "source": [
    "### Testing conditional associations\n",
    "\n",
    "Partition the variables into (contiguous) groups.\n",
    "\n",
    "  \\begin{align*}\n",
    "    \\underbrace{X_1, X_2, X_3}_{G_1},\\underbrace{X_4, X_5}_{G_2}, \\underbrace{X_6, X_7}_{G_3}, \\underbrace{X_8, X_9, X_{10}}_{G_4}\n",
    "  \\end{align*}\n",
    "\n",
    "  Conditional hypotheses:\n",
    "  \\begin{align*}\n",
    "    \\mathcal{H}_{0,g} : Y {\\; \\perp\\!\\!\\!\\perp \\;}  X_g \\mid X_{-g}.\n",
    "  \\end{align*}\n",
    "\n",
    "  - Larger groups: easier to reject the null\n",
    "  - Smaller groups: more informative discoveries\n",
    "  \n",
    "Control the ***false discovery rate***: the expected proportion of spurious discoveries.\n",
    "  \n",
    "Model-X framework:\n",
    "  \\begin{align*}\n",
    "    (X^i,Y^i) \\overset{}{\\sim} P_{XY} = P_X \\cdot P_{Y \\mid X},\n",
    "    \\qquad X^i \\in \\mathbb{R}^p, Y^i \\in \\mathbb{R}.\n",
    "  \\end{align*}\n",
    "Model $P_X$, make inferences about $P_{Y \\mid X}$."
   ]
  },
  {
   "cell_type": "markdown",
   "id": "00d8fb96",
   "metadata": {
    "slideshow": {
     "slide_type": "slide"
    }
   },
   "source": [
    "### Preview of discoveries (simulated phenotype)\n",
    "\n",
    "<div>\n",
    "<img src=\"figures/experiment_everyone_chicago_10_small.png\" width=\"800\"/>\n",
    "</div>"
   ]
  },
  {
   "cell_type": "markdown",
   "id": "c8dfdac4",
   "metadata": {
    "slideshow": {
     "slide_type": "slide"
    }
   },
   "source": [
    "### Genotypes and knockoffs\n",
    "\n",
    "Knockoff are synthetic variables that \"look like\", but are not identical to, the genotypes.\n",
    "\n",
    "Knockoffs preserve allele frequencies, linkage disequilibrium, and population structure.\n",
    "\n",
    "<div>\n",
    "<img src=\"figures/knockoffs.png\" width=\"600\"/>\n",
    "</div>"
   ]
  },
  {
   "cell_type": "markdown",
   "id": "abb43f1e",
   "metadata": {
    "slideshow": {
     "slide_type": "slide"
    }
   },
   "source": [
    "### Knockoffs as negative control variables\n",
    "\n",
    "<div>\n",
    "<img src=\"figures/experiment_everyone_stats_2.png\" width=\"800\"/>\n",
    "</div>\n",
    "\n",
    "Main strength of knockoffs: they can be used as negative control variables with any model, including complicated multivariate and machine learning models."
   ]
  },
  {
   "cell_type": "markdown",
   "id": "5881128d",
   "metadata": {
    "slideshow": {
     "slide_type": "slide"
    }
   },
   "source": [
    "## Tutorial\n",
    "\n",
    "A toy genetic dataset containing 1000 artificial samples typed at 2000 loci (divided between chromosome 21 and 22) is available from the [software repository](https://github.com/msesia/knockoffgwas).\n",
    "\n",
    "\n",
    "<div>\n",
    "<img src=\"figures/repository.png\" width=\"800\"/>\n",
    "</div>\n",
    "\n",
    "Download the repository, enter the main directory, and compile the *snpknock2* C++ program by typing in your terminal:\n",
    "\n",
    "```\n",
    "cd snpknock2\n",
    "make\n",
    "cd ..\n",
    "```"
   ]
  },
  {
   "cell_type": "markdown",
   "id": "d7987131",
   "metadata": {
    "slideshow": {
     "slide_type": "slide"
    }
   },
   "source": [
    "After a successful compilation, you can execute the script `analyze.sh`.\n",
    "\n",
    "```\n",
    "./analyze.sh\n",
    "```\n",
    "\n",
    "This will first verify whether the system dependencies and then carry out an entire association analysis. \n",
    "\n",
    "This analysis consists of 4 main modules.\n"
   ]
  },
  {
   "cell_type": "markdown",
   "id": "af0dde77",
   "metadata": {
    "slideshow": {
     "slide_type": "slide"
    }
   },
   "source": [
    "### Module 1: partition the genome\n",
    "\n",
    "Partition the available SNPs into contiguous groups at different levels of resolution, based on the genetic distance information.\n",
    "\n",
    "<div>\n",
    "<img src=\"figures/dendro.png\" width=\"800\"/>\n",
    "</div>"
   ]
  },
  {
   "cell_type": "markdown",
   "id": "25edc88e",
   "metadata": {
    "slideshow": {
     "slide_type": "slide"
    }
   },
   "source": [
    "### Module 2: generate knockoffs\n",
    "\n",
    "Generate knockoff genotypes for all specified genome partitions.\n",
    "\n",
    "<div>\n",
    "<img src=\"figures/shapeit.png\" width=\"800\"/>\n",
    "</div>\n"
   ]
  },
  {
   "cell_type": "markdown",
   "id": "93d913c4",
   "metadata": {
    "slideshow": {
     "slide_type": "slide"
    }
   },
   "source": [
    "### Module 2: inspect the knockoffs\n",
    "\n",
    "Compute goodness-of-fit-diagnostics for the knockoffs.\n",
    "\n",
    "\n",
    "<div>\n",
    "<img src=\"figures/knockoffs_chr21_res5.png\" width=\"400\"/>\n",
    "</div>"
   ]
  },
  {
   "cell_type": "markdown",
   "id": "27a031fe",
   "metadata": {
    "slideshow": {
     "slide_type": "slide"
    }
   },
   "source": [
    "### Module 3: test statistics\n",
    "\n",
    "Compute knockoff test statistics for all groups of SNPs, separately for each specified genome partition. \n",
    "    \n",
    "<div>\n",
    "<img src=\"figures/importance_2.png\" width=\"800\"/>\n",
    "</div>\n"
   ]
  },
  {
   "cell_type": "markdown",
   "id": "3ce42fc9",
   "metadata": {
    "slideshow": {
     "slide_type": "slide"
    }
   },
   "source": [
    "### Module 4: knockoff filter\n",
    "\n",
    "The last module applies the knockoff filter and reports any discoveries.\n",
    "    \n",
    "<div>\n",
    "<img src=\"figures/experiment_everyone_chicago_10_small.png\" width=\"800\"/>\n",
    "</div>\n"
   ]
  },
  {
   "cell_type": "markdown",
   "id": "065d8cc5",
   "metadata": {
    "slideshow": {
     "slide_type": "slide"
    }
   },
   "source": [
    "### Visualize the results\n",
    "\n",
    "The final results can be visualized interactively with the script `visualize.sh`, which will launch a [Shiny](https://shiny.rstudio.com/) app in your browser. \n",
    "\n",
    "```\n",
    "./visualize.sh\n",
    "```\n",
    "\n",
    "    \n",
    "<div>\n",
    "<img src=\"figures/view_1.png\" width=\"800\"/>\n",
    "</div>\n",
    "\n"
   ]
  },
  {
   "cell_type": "markdown",
   "id": "2f5ddd07",
   "metadata": {
    "slideshow": {
     "slide_type": "slide"
    }
   },
   "source": [
    "### To learn more\n",
    "\n",
    "References:\n",
    "\n",
    " - False discovery rate control in genome-wide association studies with population structure. M. Sesia, S. Bates, E. Candès, J. Marchini, C. Sabatti. Proceedings of the National Academy of Sciences, 2021. https://doi.org/10.1073/pnas.2105841118\n",
    " - Multi-resolution localization of causal variants across the genome. M. Sesia, E. Katsevich, S. Bates, E. Candès, C. Sabatti  Nature Communications, 2020. https://doi.org/0.1038/s41467-020-14791-2\n",
    " - Gene hunting with hidden Markov model knockoffs. M. Sesia, C. Sabatti, E. Candès. Biometrika, 2019. https://doi.org/10.1093/biomet/asy033\n",
    " \n",
    " \n",
    " Other recent works:\n",
    " \n",
    " - Searching for robust associations with a multi-environment knockoff filter. S. Li, M. Sesia, Y. Romano, E. Candès, C. Sabatti. Biometrika, 2021. https://doi.org/10.1093/biomet/asab055\n",
    " \n",
    " - ***Searching for interactions.*** Individualized conditional independence testing under model-X with heterogeneous samples and interactions. M. Sesia, T. Sun. (2022, Under review) https://arxiv.org/abs/2205.08653"
   ]
  }
 ],
 "metadata": {
  "authors": [
   {
    "name": "Matteo Sesia"
   }
  ],
  "celltoolbar": "Slideshow",
  "kernelspec": {
   "display_name": "R",
   "language": "R",
   "name": "ir"
  },
  "language_info": {
   "codemirror_mode": "r",
   "file_extension": ".r",
   "mimetype": "text/x-r-source",
   "name": "R",
   "pygments_lexer": "r",
   "version": "4.0.3"
  }
 },
 "nbformat": 4,
 "nbformat_minor": 5
}
