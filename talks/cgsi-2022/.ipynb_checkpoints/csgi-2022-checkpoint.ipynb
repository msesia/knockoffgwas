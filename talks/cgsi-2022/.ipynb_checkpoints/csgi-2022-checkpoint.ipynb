{
 "cells": [
  {
   "cell_type": "markdown",
   "id": "7e36b37e",
   "metadata": {
    "slideshow": {
     "slide_type": "slide"
    }
   },
   "source": [
    "### Controlling the FDR in GWAS with population structure\n",
    "\n",
    "#### Matteo Sesia (University of Southern California)\n",
    "#### CSGI 2022 | July 7th, 2022\n"
   ]
  },
  {
   "cell_type": "markdown",
   "id": "53dca4b2",
   "metadata": {
    "slideshow": {
     "slide_type": "slide"
    }
   },
   "source": [
    "<div>\n",
    "<img src=\"figures/slide_1.png\" width=\"800\"/>\n",
    "</div>"
   ]
  },
  {
   "cell_type": "markdown",
   "id": "4472eb3b",
   "metadata": {
    "slideshow": {
     "slide_type": "slide"
    }
   },
   "source": [
    "### Traditional approach: testing marginal associations\n",
    "\n",
    "Methods: univariate regression, permutations, linear mixed models.\n",
    "\n",
    "\\begin{align*}\n",
    "    \\text{marginal association} \\quad & \\neq \\quad \\text{causation} \\\\\n",
    "    Y \\perp X_j \\quad & \\qquad X_j \\rightarrow Y\n",
    "\\end{align*}\n",
    "\n",
    "<div>\n",
    "<img src=\"figures/manhattan.png\" width=\"500\"/>\n",
    "</div>\n",
    "\n",
    "Variants on same chromosome are not independent of each other (linkage disequilibrium)."
   ]
  },
  {
   "cell_type": "markdown",
   "id": "6a77d0f2",
   "metadata": {
    "slideshow": {
     "slide_type": "slide"
    }
   },
   "source": [
    "### Testing conditional associations\n",
    "\n",
    "Partition the variables into (contiguous) groups.\n",
    "\n",
    "  \\begin{align*}\n",
    "    \\underbrace{X_1, X_2, X_3}_{G_1},\\underbrace{X_4, X_5}_{G_2}, \\underbrace{X_6, X_7}_{G_3}, \\underbrace{X_8, X_9, X_{10}}_{G_4}\n",
    "  \\end{align*}\n",
    "\n",
    "  Conditional hypotheses:\n",
    "  \\begin{align*}\n",
    "    \\mathcal{H}_{0,g} : Y \\perp X_g \\mid X_{-g}.\n",
    "  \\end{align*}\n",
    "\n",
    "  - Larger groups: easier to reject the null\n",
    "  - Smaller groups: more informative discoveries\n",
    "  \n",
    "Possibly many discoveries. Control the false discovery rate:\n",
    "  \n",
    "\\begin{align*}\n",
    "    \\text{FDR} = \\mathbb{E} \\left[ \\frac{|\\hat{S} \\cap \\mathcal{H}_0|}{\\max(1,| \\hat{S}|)} \\right] \\leq \\alpha\n",
    "\\end{align*}\n",
    "\n",
    "Model-X framework:\n",
    "  \\begin{align*}\n",
    "    (X^i,Y^i) \\overset{}{\\sim} P_{XY} = P_X \\cdot P_{Y \\mid X},\n",
    "    \\qquad X^i \\in \\mathbb{R}^p, Y^i \\in \\mathbb{R}.\n",
    "  \\end{align*}\n",
    "Model $P_X$, make inferences about $P_{Y \\mid X}$."
   ]
  },
  {
   "cell_type": "markdown",
   "id": "faa710ab",
   "metadata": {
    "slideshow": {
     "slide_type": "slide"
    }
   },
   "source": [
    "### Preview of discoveries (simulated phenotype)\n",
    "\n",
    "<div>\n",
    "<img src=\"figures/experiment_everyone_chicago_10_small.png\" width=\"800\"/>\n",
    "</div>"
   ]
  },
  {
   "cell_type": "markdown",
   "id": "3580a0ca",
   "metadata": {
    "slideshow": {
     "slide_type": "slide"
    }
   },
   "source": [
    "### Genotypes and knockoffs\n",
    "\n",
    "Knockoff are synthetic variables that \"look like\", but are not identical to, the genotypes.\n",
    "\n",
    "Knockoffs preserve allele frequencies, linkage disequilibrium, and population structure.\n",
    "\n",
    "<div>\n",
    "<img src=\"figures/knockoffs.png\" width=\"600\"/>\n",
    "</div>"
   ]
  },
  {
   "cell_type": "markdown",
   "id": "81cb63fe",
   "metadata": {
    "slideshow": {
     "slide_type": "slide"
    }
   },
   "source": [
    "### Knockoffs as negative control variables\n",
    "\n",
    "<div>\n",
    "<img src=\"figures/experiment_everyone_stats_2.png\" width=\"800\"/>\n",
    "</div>\n",
    "\n",
    "Main strength of knockoffs: they can be used as negative control variables with any model, including complicated multivariate and machine learning models."
   ]
  },
  {
   "cell_type": "markdown",
   "id": "367c2a7b",
   "metadata": {
    "slideshow": {
     "slide_type": "slide"
    }
   },
   "source": [
    "<div>\n",
    "<img src=\"figures/slide_6.png\" width=\"800\"/>\n",
    "</div>"
   ]
  },
  {
   "cell_type": "markdown",
   "id": "445b9cb6",
   "metadata": {
    "slideshow": {
     "slide_type": "slide"
    }
   },
   "source": [
    "## Tutorial\n",
    "\n",
    "A toy genetic dataset containing 1000 artificial samples typed at 2000 loci (divided between chromosome 21 and 22) is available from the [software repository](https://github.com/msesia/knockoffgwas).\n",
    "Note that this tutorial is intended to be run on a Linux system.\n",
    "\n",
    "<div>\n",
    "<img src=\"figures/repository.png\" width=\"800\"/>\n",
    "</div>\n",
    "\n",
    "Download the repository, enter the main directory, and compile the *snpknock2* C++ program by typing in your terminal:\n",
    "\n",
    "```\n",
    "cd snpknock2\n",
    "make\n",
    "cd ..\n",
    "```"
   ]
  },
  {
   "cell_type": "markdown",
   "id": "fe03be99",
   "metadata": {
    "slideshow": {
     "slide_type": "slide"
    }
   },
   "source": [
    "After a successful compilation, you can execute the script `analyze.sh` contained therein.\n",
    "\n",
    "```\n",
    "./analyze.sh\n",
    "```\n",
    "\n",
    "This will first verify whether the system dependencies (plink, R, and the snpknock2 executable compiled above), and then install any missing required R packages.\n",
    "Then, it will carry out an entire association analysis which should take approximately 5 minutes on a personal computer from start to finish. \n",
    "\n",
    "This analysis consists of 4 main modules, each encoded by a distinct script located within the sub-directory `knockoffgwas/`, and all automatically coordinated by `analyze.sh`.\n",
    "These modules organize the analysis as follows.\n"
   ]
  },
  {
   "cell_type": "markdown",
   "id": "0f2d291e",
   "metadata": {
    "slideshow": {
     "slide_type": "slide"
    }
   },
   "source": [
    "### Module 1: partition the genome\n",
    "\n",
    "Partition the available SNPs into contiguous groups at different levels of resolution, based on the genetic distance information provided with the data and the desired resolution values (measured in cM) specified by the user (a default option is specified in `knockoffgwas/module_1_partition.sh`). The genome partitions computed by the module will be stored in the intermediate result directory `tmp/partitions`.\n",
    "\n",
    "<div>\n",
    "<img src=\"figures/dendro.png\" width=\"800\"/>\n",
    "</div>"
   ]
  },
  {
   "cell_type": "markdown",
   "id": "d9ce1397",
   "metadata": {
    "slideshow": {
     "slide_type": "slide"
    }
   },
   "source": [
    "### Module 2: generate knockoffs\n",
    "\n",
    "Generate knockoff genotypes for all specified genome partitions. This operation is carried out by the script `knockoffgwas/module_2_knockoffs.sh`.\n",
    "The output knockoffs will be stored in standard BED format within the intermediate result directory `tmp/knockoffs`, merged with a copy of the original genotypes for subsequent convenience. A separate set of BED and auxiliary files will be produced for each available chromosome. The second part of this module, `knockoffgwas/module_2b_knockoffs_god.sh`, computes goodness-of-fit-diagnostics for the knockoffs corresponding to all chromosomes and resolutions.\n",
    "\n",
    "<div>\n",
    "<img src=\"figures/shapeit.png\" width=\"800\"/>\n",
    "</div>\n"
   ]
  },
  {
   "cell_type": "markdown",
   "id": "32b13dcb",
   "metadata": {
    "slideshow": {
     "slide_type": "slide"
    }
   },
   "source": [
    "### Module 2: inspect the knockoffs\n",
    "\n",
    "The second part of this module, `knockoffgwas/module_2b_knockoffs_god.sh`, computes goodness-of-fit-diagnostics for the knockoffs corresponding to all chromosomes and resolutions. Plots summarizing the goodness-of-fit-diagnostics are stored in the directory `tmp/knockoffs_gof_plots/`. These goodness-of-fit-diagnostics should reflect the correct exchangeability of the knockoffs with the original genotypes.\n",
    "\n",
    "\n",
    "<div>\n",
    "<img src=\"figures/knockoffs_chr21_res5.png\" width=\"400\"/>\n",
    "</div>"
   ]
  },
  {
   "cell_type": "markdown",
   "id": "46113cb3",
   "metadata": {
    "slideshow": {
     "slide_type": "slide"
    }
   },
   "source": [
    "### Module 3: test statistics\n",
    "\n",
    "Compute knockoff test statistics for all groups of SNPs, separately for each specified genome partition. This operation is carried out by the script `knockoffgwas/module_3_statistics.sh`, which first merges the knockoff-augmented genotype files for all chromosomes and then converts them into a large [file-backed matrix](https://privefl.github.io/bigsnpr/).\n",
    "Finally, this script fits a sparse generalized linear regression model to predict the phenotype of interest given the knockoff-augmented data using a very [efficient implementation of the lasso](https://privefl.github.io/bigstatsr/), and utilizes that to compute the final knockoff test statistics, separately for each specified genome partition.\n",
    "    \n",
    "<div>\n",
    "<img src=\"figures/importance_2.png\" width=\"800\"/>\n",
    "</div>\n"
   ]
  },
  {
   "cell_type": "markdown",
   "id": "76c71636",
   "metadata": {
    "slideshow": {
     "slide_type": "slide"
    }
   },
   "source": [
    "### Module 4: knockoff filter\n",
    "\n",
    "The last module applies the knockoff filter to the statistics computed above, producing a separate list of discoveries for each specified genome partition. This operation is carried out by the script `knockoffgwas/module_4_discover.sh`. The default FDR level is 10%, but it can be modified within this script. The final lists of discoveries will be written in the directory `results/`.\n",
    "    \n",
    "<div>\n",
    "<img src=\"figures/experiment_everyone_chicago_10_small.png\" width=\"800\"/>\n",
    "</div>\n"
   ]
  },
  {
   "cell_type": "markdown",
   "id": "1ad33aec",
   "metadata": {
    "slideshow": {
     "slide_type": "slide"
    }
   },
   "source": [
    "### Visualize the results\n",
    "\n",
    "The final results can be visualized interactively with the script `visualize.sh`, which will launch a [Shiny](https://shiny.rstudio.com/) app in your browser. Some additional R packages are required by the visualization tool, and will be automatically installed if not found.\n",
    "\n",
    "```\n",
    "./visualize.sh\n",
    "```\n",
    "\n",
    "The expected results for the analysis of this toy dataset are provided in the directory `results/` and can be visualized through interactive Chicago plots by running the script `visualize.sh` before running `analyze.sh`. Note that the script `analyze.sh` will overwrite the default results. \n",
    "\n",
    "    \n",
    "<div>\n",
    "<img src=\"figures/view_1.png\" width=\"800\"/>\n",
    "</div>\n",
    "\n"
   ]
  },
  {
   "cell_type": "markdown",
   "id": "b5c76b8b",
   "metadata": {
    "slideshow": {
     "slide_type": "slide"
    }
   },
   "source": [
    "### To learn more\n",
    "\n",
    "References:\n",
    "\n",
    " - False discovery rate control in genome-wide association studies with population structure. M. Sesia, S. Bates, E. Candès, J. Marchini, C. Sabatti. Proceedings of the National Academy of Sciences, 2021. https://doi.org/10.1073/pnas.2105841118\n",
    " - Multi-resolution localization of causal variants across the genome. M. Sesia, E. Katsevich, S. Bates, E. Candès, C. Sabatti  Nature Communications, 2020. https://doi.org/0.1038/s41467-020-14791-2\n",
    " - Gene hunting with hidden Markov model knockoffs. M. Sesia, C. Sabatti, E. Candès. Biometrika, 2019. https://doi.org/10.1093/biomet/asy033\n",
    " \n",
    " \n",
    " Other recent works:\n",
    " \n",
    " - Searching for robust associations with a multi-environment knockoff filter. S. Li, M. Sesia, Y. Romano, E. Candès, C. Sabatti. Biometrika, 2021. https://doi.org/10.1093/biomet/asab055\n",
    " \n",
    " - ***Searching for interactions.*** Individualized conditional independence testing under model-X with heterogeneous samples and interactions. M. Sesia, T. Sun. (2022, Under review) https://arxiv.org/abs/2205.08653"
   ]
  }
 ],
 "metadata": {
  "authors": [
   {
    "name": "Matteo Sesia"
   }
  ],
  "celltoolbar": "Slideshow",
  "kernelspec": {
   "display_name": "R",
   "language": "R",
   "name": "ir"
  },
  "language_info": {
   "codemirror_mode": "r",
   "file_extension": ".r",
   "mimetype": "text/x-r-source",
   "name": "R",
   "pygments_lexer": "r",
   "version": "4.0.3"
  }
 },
 "nbformat": 4,
 "nbformat_minor": 5
}
